{
  "nbformat": 4,
  "nbformat_minor": 0,
  "metadata": {
    "colab": {
      "name": "Aula04_Exercicios.ipynb.txt",
      "provenance": [],
      "collapsed_sections": [],
      "include_colab_link": true
    },
    "kernelspec": {
      "name": "python3",
      "display_name": "Python 3"
    },
    "language_info": {
      "name": "python"
    }
  },
  "cells": [
    {
      "cell_type": "markdown",
      "metadata": {
        "id": "view-in-github",
        "colab_type": "text"
      },
      "source": [
        "<a href=\"https://colab.research.google.com/github/jmveronez/BlueMod1/blob/main/Aula04_Exercicios_ipynb_txt.ipynb\" target=\"_parent\"><img src=\"https://colab.research.google.com/assets/colab-badge.svg\" alt=\"Open In Colab\"/></a>"
      ]
    },
    {
      "cell_type": "markdown",
      "metadata": {
        "id": "HYnPLbl2OfuE"
      },
      "source": [
        "[texto do link](https://)## Exercício 02\n",
        "Elabore um programa que escreve seu nome completo na primeira linha, seu endereço na segunda e o CEP e telefone na terceira.  \n",
        "\n",
        "**Exemplo:**\n",
        "```\n",
        "Nome: Bruno Fabri\n",
        "Endereço: Rua ABC\n",
        "CEP: 002220-010\n",
        "```"
      ]
    },
    {
      "cell_type": "code",
      "metadata": {
        "colab": {
          "base_uri": "https://localhost:8080/"
        },
        "id": "-JEcpWoO16ix",
        "outputId": "4e098730-ade0-4f0a-b6e7-092aae48b01d"
      },
      "source": [
        "print('''\n",
        "Nome: João Veronez\n",
        "Endereço: Rua Olga Meloni Hodnik\n",
        "CEP: 14680-000\n",
        "Telefone: 16 99106 7821''')"
      ],
      "execution_count": 9,
      "outputs": [
        {
          "output_type": "stream",
          "text": [
            "\n",
            "Nome: João Veronez\n",
            "Endereço: Rua Olga Meloni Hodnik\n",
            "CEP: 14680-000\n",
            "Telefone: 16 99106 7821\n"
          ],
          "name": "stdout"
        }
      ]
    },
    {
      "cell_type": "markdown",
      "metadata": {
        "id": "DptQTkwqN7v9"
      },
      "source": [
        "# Exercícios de Aquecimento\n",
        "\n",
        "## Exercício 01\n",
        "Elabore um programa que imprima na tela a seguinte frase `Olá Mundo! Esse é o meu primeiro programa`"
      ]
    },
    {
      "cell_type": "markdown",
      "metadata": {
        "id": "TvbZ4_8J1ubk"
      },
      "source": [
        ""
      ]
    },
    {
      "cell_type": "code",
      "metadata": {
        "id": "fu-Hvxg7OT64",
        "colab": {
          "base_uri": "https://localhost:8080/"
        },
        "outputId": "4fc20793-3261-4208-b039-6ffe98881e1d"
      },
      "source": [
        "print(\"Olá mundo, este é o meu primeiro programa!\")"
      ],
      "execution_count": null,
      "outputs": [
        {
          "output_type": "stream",
          "text": [
            "Olá mundo, este é o meu primeiro programa!\n"
          ],
          "name": "stdout"
        }
      ]
    },
    {
      "cell_type": "markdown",
      "metadata": {
        "id": "5XVY0cvwP1WX"
      },
      "source": [
        "## Exercício 03\n",
        "Elabore um programa que recebe o nome de uma pessoa do terminal e mostra a seguinte mensagem: `Olá {nome}! Seja bem vindo ao fantástico mundo da programação`"
      ]
    },
    {
      "cell_type": "code",
      "metadata": {
        "id": "VDfwe6OSQM0M",
        "colab": {
          "base_uri": "https://localhost:8080/"
        },
        "outputId": "93a8f856-df11-4bc2-e185-a95d3cd46cc9"
      },
      "source": [
        "nome = input(\"Qual seu nome? \")\n",
        "print(\"Olá \" + nome + \", seja bem vindo ao grande mundo da programação\")"
      ],
      "execution_count": 11,
      "outputs": [
        {
          "output_type": "stream",
          "text": [
            "Qual seu nome? Maria\n",
            "Olá Maria, seja bem vindo ao grande mundo da programação\n"
          ],
          "name": "stdout"
        }
      ]
    },
    {
      "cell_type": "markdown",
      "metadata": {
        "id": "1Nb29agVQc3k"
      },
      "source": [
        "## Exercício 04\n",
        "Elabore um programa que recebe dois valores inteiros e mostra a soma desses valores\n",
        "\n",
        "**Exemplo:**\n",
        "\n",
        "```\n",
        "Primeiro Valor = 2\n",
        "Segundo Valor = 3\n",
        "Soma = 5\n",
        "```"
      ]
    },
    {
      "cell_type": "code",
      "metadata": {
        "id": "a6_BwVwRROmH",
        "colab": {
          "base_uri": "https://localhost:8080/"
        },
        "outputId": "7d273f60-a12a-4469-cd24-8e1d6dff1bff"
      },
      "source": [
        "valor1 = int(input(\"Digite o primeiro valor \"))\n",
        "valor2 = int(input(\"Digite o segundo valor \"))\n",
        "Soma = valor1 + valor2\n",
        "\n",
        "print(\"O valor da soma de {} + {} é = {}\".format(valor1, valor2, Soma))"
      ],
      "execution_count": 19,
      "outputs": [
        {
          "output_type": "stream",
          "text": [
            "Digite o primeiro valor 5\n",
            "Digite o segundo valor 6\n",
            "O valor da soma de 5 + 6 é = 11\n"
          ],
          "name": "stdout"
        }
      ]
    },
    {
      "cell_type": "markdown",
      "metadata": {
        "id": "4HQxR3FTTbSr"
      },
      "source": [
        "## Exercício 05\n",
        "Elabore um programa que recebe dois valores inteiros e mostra se o primeiro valor é maior ou igual ao segundo valor\n",
        "\n",
        "**Exemplo:**\n",
        "```\n",
        "Primeiro Valor = 3\n",
        "Segundo Valor = 2\n",
        "Resultado = True\n",
        "```"
      ]
    },
    {
      "cell_type": "code",
      "metadata": {
        "id": "OXISQASdTeSW",
        "colab": {
          "base_uri": "https://localhost:8080/"
        },
        "outputId": "c375b360-7c34-4dba-d4d5-18956aecaa62"
      },
      "source": [
        "Num1 = int(input(\"Digite o primeiro valor: \"))\n",
        "Num2 = int(input(\"Digite o segundo valor: \"))\n",
        "\n",
        "print(Num1>=Num2)\n",
        "\n",
        "if Num1 >= Num2:\n",
        "    print(\"True\")\n",
        "else:\n",
        "    print(\"False\")\n"
      ],
      "execution_count": 32,
      "outputs": [
        {
          "output_type": "stream",
          "text": [
            "Digite o primeiro valor: 2\n",
            "Digite o segundo valor: 4\n",
            "False\n",
            "False\n"
          ],
          "name": "stdout"
        }
      ]
    },
    {
      "cell_type": "markdown",
      "metadata": {
        "id": "Gn8rHPn3UCnc"
      },
      "source": [
        "## Exercício 06\n",
        "Elabore um programa que recebe o seu nome, endereço e hobby e mostra cada uma das informações da seguinte forma:\n",
        "- Nome -> Letra maiúscula\n",
        "- Endereço -> Letra minúscula\n",
        "- Hobby -> Primeira letra maiúscula\n",
        "\n",
        "**Exemplo Entrada:**\n",
        "```\n",
        "Nome: bruno fabri\n",
        "Endereço: Rua ABC\n",
        "Hobby: jogar cs\n",
        "```\n",
        "\n",
        "**Exemplo Saída:**\n",
        "```\n",
        "Nome: BRUNO FABRI\n",
        "Endereço: rua abc\n",
        "Hobby: Jogar cs\n",
        "```"
      ]
    },
    {
      "cell_type": "code",
      "metadata": {
        "id": "ZIj-PGVZVVP6",
        "colab": {
          "base_uri": "https://localhost:8080/"
        },
        "outputId": "a7d8127d-f022-4314-93f9-afc77d119b2c"
      },
      "source": [
        "nome = input(\"Digite seu nome: \")\n",
        "endereco = input(\"Digite seu endereço: \")\n",
        "hobby = input(\"Digite seu endereço: \")\n",
        "\n",
        "print(nome.upper())\n",
        "print(endereco.lower())\n",
        "print(hobby c .capitalize())"
      ],
      "execution_count": 34,
      "outputs": [
        {
          "output_type": "stream",
          "text": [
            "Digite seu nome: João Veronez\n",
            "Digite seu endereço: ABC\n",
            "Digite seu endereço: NaO sEi\n",
            "JOÃO VERONEZ\n",
            "abc\n",
            "Nao sei\n"
          ],
          "name": "stdout"
        }
      ]
    },
    {
      "cell_type": "markdown",
      "metadata": {
        "id": "wlvmEAPQNrcL"
      },
      "source": [
        "# Mini Projetos"
      ]
    },
    {
      "cell_type": "markdown",
      "metadata": {
        "id": "W8zwueNBKh4B"
      },
      "source": [
        "## Mini Projeto 01 - Conversor de Moeda\n",
        "Vamos construir um programa que irá converter moedas do real para o dólar e do dólar para o real. Vamos considerar que `$ 1,00 = R$ 5,75`\n",
        "\n",
        "### Parte 1\n",
        "Faça o conversor de moeda receber o valor em real e mostrar o valor convertido para dólar no formato `$ XXXX.XX`\n",
        "\n",
        "**Exemplo:**\n",
        "\n",
        "```\n",
        "Valor em R$ = 1000\n",
        "Valor em $ = $ 173.91\n",
        "```\n",
        "\n",
        "### Parte 2\n",
        "Altere o conversor de moedas para receber o valor em dólar, converter para real e mostrar o resultado no formato `R$ XXXX.XX`\n",
        "\n",
        "**Exemplo:**\n",
        "```\n",
        "Valor em $ = 1000\n",
        "Valor em R$ = R$ 5750.00\n",
        "```"
      ]
    },
    {
      "cell_type": "code",
      "metadata": {
        "id": "mRQ9fpIgMp5Z",
        "colab": {
          "base_uri": "https://localhost:8080/"
        },
        "outputId": "bbfa893d-0466-4618-999b-eb87b8ebca8d"
      },
      "source": [
        "Real = int(input(\"Digite o valor a ser convertido em dólar: \"))\n",
        "Dolar = Real * 0.17391\n",
        "\n",
        "print(\"O valor será $\",Dolar)\n",
        "\n",
        "Dolar2 = int(input(\"Agora, digite o valor a ser convertido em real: \"))\n",
        "Real2 = Dolar2 * 5.75\n",
        "\n",
        "print(\"O valor será R$\", Real2)"
      ],
      "execution_count": 44,
      "outputs": [
        {
          "output_type": "stream",
          "text": [
            "Digite o valor a ser convertido em dólar: 1000\n",
            "O valor será $ 173.91\n",
            "Agora, digite o valor a ser convertido em real: 1000\n",
            "O valor será R$ 5750.0\n"
          ],
          "name": "stdout"
        }
      ]
    },
    {
      "cell_type": "markdown",
      "metadata": {
        "id": "0NmAiF2DV_ju"
      },
      "source": [
        "## Mini Projeto 02 - Calculadora de aumento de aluguel\n",
        "Vamos construir um programa que irá calcular o aumento anual do seu aluguel em duas partes:\n",
        "\n",
        "### Parte 1\n",
        "A sua calculadora vai receber o `valor do aluguel` e calcular o aumento baseado no `IGPM de 31%`. A calculadora deve apresentar o aluguel reajustado no formato `R$ XXXX.XX`\n",
        "\n",
        "**Exemplo:**\n",
        "```\n",
        "Valor do aluguel = 1000\n",
        "Valor do aluguel reajustado = R$ 1310,00\n",
        "```\n",
        "\n",
        "### Parte 2\n",
        "Agora, altere sua calculadora para receber além do `valor do aluguel`, o percentual do reajuste no formato `XX%`.  \n",
        "\n",
        "**Dica:** Descubra uma forma de transformar o percentual recebido em um número para efetuar o cálculo.\n",
        "\n",
        "**Exemplo:**\n",
        "```\n",
        "Valor do aluguel = 1000\n",
        "Percentual do reajuste = 31%\n",
        "Valor do aluguel reajustado = R% 1310,00\n",
        "```"
      ]
    },
    {
      "cell_type": "code",
      "metadata": {
        "id": "0eHzSCyaGkYJ",
        "colab": {
          "base_uri": "https://localhost:8080/"
        },
        "outputId": "d56b97b7-37c5-4097-c912-4815ca027946"
      },
      "source": [
        "Valor_Padrao = int(input(\"Por favor, digite o valor de seu aluguel: \"))\n",
        "Reajuste = int(input(\"Agora, digite o valor do reajuste que será aplicado: \"))\n",
        "\n",
        "Reajuste_Corrigido = 1 + (Reajuste / 100)\n",
        "Valor_Corrigido = Valor_Padrao * Reajuste_Corrigido\n",
        "\n",
        "print(\"O Valor a ser pago será de R$\",Valor_Corrigido)"
      ],
      "execution_count": 49,
      "outputs": [
        {
          "output_type": "stream",
          "text": [
            "Por favor, digite o valor de seu aluguel: 1000\n",
            "Agora, digite o valor do reajuste que será aplicado: 100\n",
            "O Valor a ser pago será de R$ 2000.0\n"
          ],
          "name": "stdout"
        }
      ]
    },
    {
      "cell_type": "markdown",
      "metadata": {
        "id": "xN88sUuMOG46"
      },
      "source": [
        "## Mini Projeto 03 - Calculadora de dano\n",
        "Vamos implementar a calculadora de dano de RPG!!\n",
        "\n",
        "### Parte 1\n",
        "O programa vai receber a `vida e um monstro (entre 10 e 50)` e o `valor do ataque do jogador por turno (entre 5 e 10)`\n",
        "\n",
        "Baseado nos valores, exiba a quantidade de turnos que o jogador irá demorar para conseguir derrotar o monstro.\n",
        "\n",
        "**Exemplo:**\n",
        "```\n",
        "Vida de um monstro (entre 10 e 50): 26\n",
        "Valor do ataque do jogador por turno (entre 5 e 10): 5\n",
        "Resultado: O jogador irá precisar de 6 turnos para derrotar o monstro.\n",
        "```\n",
        "\n",
        "### Parte 2\n",
        "Altere o programa para ao invés de receber a vida do monstro, gerar aleatoriamente um valor entre 10 e 50."
      ]
    },
    {
      "cell_type": "code",
      "metadata": {
        "id": "Mrpz9UomQH2P",
        "colab": {
          "base_uri": "https://localhost:8080/"
        },
        "outputId": "db0d3a30-dbef-4a64-d817-d3f48c792bdb"
      },
      "source": [
        "import random\n",
        "\n",
        "Vida_Monstro = int(input(\"Digite a vida do monstro (entre 10 e 50): \"))\n",
        "Atk = int(input(\"Digite seu dano de ataque (entre 5 e 10): \"))\n",
        "Atk_Totais = Vida_Monstro / Atk\n",
        "\n",
        "print(\"O jogador irá precisar de\", round(Atk_Totais + 0.5),\" ataques para derrotar o monstro\")\n",
        "\n",
        "Vida_Monstro2 = random.randrange(10, 50)\n",
        "print(\"Oh não, um segundo monstro apareceu e agora tem\",Vida_Monstro2,\"pontos de vida\")\n",
        "Atk_Totais2 = Vida_Monstro2 / Atk\n",
        "\n",
        "print(\"O jogador irá precisar de\", round(Atk_Totais2 + 0.5),\" ataques para derrotar o segundo monstro\")\n"
      ],
      "execution_count": 69,
      "outputs": [
        {
          "output_type": "stream",
          "text": [
            "Digite a vida do monstro (entre 10 e 50): 30\n",
            "Digite seu dano de ataque (entre 5 e 10): 7\n",
            "O jogador irá precisar de 5  ataques para derrotar o monstro\n",
            "Oh não, um segundo monstro apareceu e agora tem 11 pontos de vida\n",
            "O jogador irá precisar de 2  ataques para derrotar o segundo monstro\n"
          ],
          "name": "stdout"
        }
      ]
    }
  ]
}