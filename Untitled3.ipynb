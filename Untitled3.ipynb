{
  "nbformat": 4,
  "nbformat_minor": 0,
  "metadata": {
    "colab": {
      "name": "Untitled3.ipynb",
      "provenance": [],
      "authorship_tag": "ABX9TyPiAOIHFiRiFxaiFT1cAg6e",
      "include_colab_link": true
    },
    "kernelspec": {
      "name": "python3",
      "display_name": "Python 3"
    },
    "language_info": {
      "name": "python"
    }
  },
  "cells": [
    {
      "cell_type": "markdown",
      "metadata": {
        "id": "view-in-github",
        "colab_type": "text"
      },
      "source": [
        "<a href=\"https://colab.research.google.com/github/jmveronez/BlueMod1/blob/main/Untitled3.ipynb\" target=\"_parent\"><img src=\"https://colab.research.google.com/assets/colab-badge.svg\" alt=\"Open In Colab\"/></a>"
      ]
    },
    {
      "cell_type": "code",
      "metadata": {
        "id": "oR820n5VxuZP"
      },
      "source": [
        "# Exercício 1\n",
        "\n",
        "numero1 = int(input(\"Digite o primeiro número: \"))\n",
        "numero2 = int(input(\"Digite o segundo número: \"))\n",
        "numero3 = int(input(\"Digite o terceiro número: \"))\n",
        "\n",
        "if numero1 < numero2 and numero2 < numero3:\n",
        "  print(\"Menor número: \",numero1, \"\\nMaior número: \", numero3)\n",
        "elif numero1 < numero3 and numero3 < numero2:\n",
        "  print(\"Menor número: \",numero1, \"\\nMaior número: \", numero2)\n",
        "elif numero1 > numero2 and numero2 > numero3:\n",
        "  print(\"Menor número: \",numero3, \"\\nMaior número: \", numero1)\n",
        "elif numero2 > numero1 and numero1 > numero3:\n",
        "  print(\"Menor número: \",numero3, \"\\nMaior número: \", numero2)\n",
        "elif numero1 > numero3 and numero3 > numero2:\n",
        "  print(\"Menor número: \",numero2, \"\\nMaior número: \", numero1)\n",
        "elif numero3 > numero1 and numero1 > numero2:\n",
        "  print(\"Menor número: \",numero2, \"\\nMaior número: \", numero3)"
      ],
      "execution_count": null,
      "outputs": []
    },
    {
      "cell_type": "code",
      "metadata": {
        "id": "n3C3u4dCyZFN"
      },
      "source": [
        "# Exercício 2\n",
        "\n",
        "numero1 = int(input(\"Digite o primeiro número: \"))\n",
        "numero2 = int(input(\"Digite o segundo número: \"))\n",
        "\n",
        "if numero1 > numero2:\n",
        "  print(\"O número\",numero1,\"é o maior número informado\")\n",
        "elif numero2 > numero1:\n",
        "  print(\"O número\",numero2,\"é o maior número informado\")"
      ],
      "execution_count": null,
      "outputs": []
    },
    {
      "cell_type": "code",
      "metadata": {
        "id": "g3eaQyRqzBbi"
      },
      "source": [
        "# Exercício 3\n",
        "\n",
        "numero = float(input(\"Digite um número que o sistema irá identificar se ele é positivo ou negativo: \"))\n",
        "\n",
        "if numero > 0:\n",
        "  print(\"O número é positivo\")\n",
        "elif numero < 0:\n",
        "  print(\"O número é negativo\")\n",
        "else:\n",
        "  print(\"Número neutro (0)\")"
      ],
      "execution_count": null,
      "outputs": []
    },
    {
      "cell_type": "code",
      "metadata": {
        "id": "AQ4aol6dzqCy"
      },
      "source": [
        "# Exercício 4\n",
        "\n",
        "caractere = input(\"Digite seu gênero (F ou M): \")\n",
        "\n",
        "if caractere.upper() == \"M\":\n",
        "  print(\"Masculino\")\n",
        "elif caractere.upper() == \"F\":\n",
        "  print(\"Feminino\")\n",
        "else:\n",
        "  print(\"Sexo inválido\")"
      ],
      "execution_count": null,
      "outputs": []
    },
    {
      "cell_type": "code",
      "metadata": {
        "id": "AUe9v0qb0XVV"
      },
      "source": [
        "# Exercício 5\n",
        "\n",
        "nota = float(input(\"Qual a nota do aluno?: \"))\n",
        "\n",
        "if nota >= 9 and nota <= 10:\n",
        "  print(\"A\")\n",
        "elif nota >= 8 and nota < 9:\n",
        "  print(\"B\")\n",
        "elif nota >= 7 and nota < 8:\n",
        "  print(\"C\")\n",
        "elif nota >= 6 and nota < 7:\n",
        "  print(\"D\")\n",
        "elif nota < 6:\n",
        "  print(\"F\")\n",
        "else:\n",
        "  print(\"Digite um valor válido\")"
      ],
      "execution_count": null,
      "outputs": []
    },
    {
      "cell_type": "code",
      "metadata": {
        "id": "m9PeasxL1Soz"
      },
      "source": [
        "# Exercício 6\n",
        "\n",
        "caractere = input(\"Digite uma letra: \")\n",
        "\n",
        "if caractere.upper() == \"A\":\n",
        "  print(\"Vogal\")\n",
        "elif caractere.upper() ==\"E\":\n",
        "    print(\"Vogal\")\n",
        "elif caractere.upper() == \"I\":\n",
        "    print(\"Vogal\")\n",
        "elif caractere.upper() == \"O\":\n",
        "    print(\"Vogal\")\n",
        "elif caractere.upper() == \"U\":\n",
        "    print(\"Vogal\")\n",
        "else:\n",
        "  print(\"Consoante\")"
      ],
      "execution_count": null,
      "outputs": []
    },
    {
      "cell_type": "code",
      "metadata": {
        "id": "2ieSvT9M2fmJ"
      },
      "source": [
        "# Projeto 1\n",
        "\n",
        "arma = input(\"Digite o modelo da arma que será usada para atacar o inimigo (Medieval ou futurista): \")\n",
        "\n",
        "if arma.upper() == \"MEDIEVAL\":\n",
        "  print(\"Sua arma será uma Espada!\")\n",
        "elif arma.upper() == \"FUTURISTA\":\n",
        "  print(\"Sua arma será um Sabre de Luz!\")\n",
        "else:\n",
        "  print(\"Valor inválido!\")\n",
        "\n",
        "ataque = input(\"Agora escolha como irá atacar o inimigo, com espada ou sabre?: \")\n",
        "\n",
        "if ataque.upper() == \"ESPADA\":\n",
        "  print(\"Você ainda não matou o chefão!\")\n",
        "elif ataque.upper() == \"SABRE\":\n",
        "  print(\"Você derrotou o chefão com o sabre de luz!\")\n",
        "else:\n",
        "  print(\"Valor inválido!\")"
      ],
      "execution_count": null,
      "outputs": []
    },
    {
      "cell_type": "code",
      "metadata": {
        "id": "d9aph-554HWs"
      },
      "source": [
        "# Desafio 1\n",
        "\n",
        "salario = float(input(\"Digite seu salário e veja o aumento que irá receber: \"))\n",
        "aumento = salario\n",
        "\n",
        "if salario <= 280 and salario > 0:\n",
        "  aumento = (salario / 100) * 20\n",
        "  print(\"Seu salário atual é de: \",salario,\"\\nO aumento será de 20%.\\nVocê irá receber um aumento de: \", aumento,\"\\nE seu novo salário será de: \", salario+aumento)\n",
        "elif salario > 280 and salario <= 700:\n",
        "  aumento = (salario / 100) * 15\n",
        "  print(\"Seu salário atual é de: \",salario,\"\\nO aumento será de 15%.\\nVocê irá receber um aumento de: \", aumento,\"\\nE seu novo salário será de: \", salario+aumento)\n",
        "elif salario > 700 and salario <= 1500:\n",
        "  aumento = (salario / 100) * 10\n",
        "  print(\"Seu salário atual é de: \",salario,\"\\nO aumento será de 10%.\\nVocê irá receber um aumento de: \", aumento,\"\\nE seu novo salário será de: \", salario+aumento)\n",
        "elif salario > 1500:\n",
        "  aumento = (salario / 100) * 5\n",
        "  print(\"Seu salário atual é de: \",salario,\"\\nO aumento será de 5%.\\nVocê irá receber um aumento de: \", aumento,\"\\nE seu novo salário será de: \", salario+aumento)\n",
        "else:\n",
        "  print(\"Digite um valor válido!\")"
      ],
      "execution_count": null,
      "outputs": []
    },
    {
      "cell_type": "code",
      "metadata": {
        "colab": {
          "base_uri": "https://localhost:8080/"
        },
        "id": "OocF3RHm6BVR",
        "outputId": "9bf3b063-8d05-4408-8cce-e36decb86d7e"
      },
      "source": [
        "# Desafio 2\n",
        "\n",
        "print(\"Valor mínimo disponível para saque pessoal é de R$10.00\")\n",
        "print(\"Valor máximo disponível para saque pessoal é de R$600.00\")\n",
        "dinheiro = int(input(\"\\nQual será o valor sacado? (Apenas valores inteiros)\"))\n",
        "\n",
        "if dinheiro >= 10 and dinheiro <= 600:\n",
        "  cem = int(dinheiro / 100)\n",
        "  dinheiro = dinheiro % 100\n",
        "    \n",
        "  cinquenta = int(dinheiro/50)\n",
        "  dinheiro = dinheiro % 50\n",
        "\n",
        "  dez = int(dinheiro/10)\n",
        "  dinheiro = dinheiro % 10\n",
        "\n",
        "  cinco = int(dinheiro/5)\n",
        "  dinheiro = dinheiro % 5\n",
        "\n",
        "  um = dinheiro\n",
        "\n",
        "  print(\"R$100,00:\",cem)\n",
        "  print(\"R50,00:\",cinquenta)\n",
        "  print(\"R$10,00:\",dez)\n",
        "  print(\"R$5,00:\",cinco)\n",
        "  print(\"R$1,00:\",um)\n",
        "else:\n",
        "  print(\"Valor inválido!\")"
      ],
      "execution_count": 67,
      "outputs": [
        {
          "output_type": "stream",
          "text": [
            "Valor mínimo disponível para saque pessoal é de R$10.00\n",
            "Valor máximo disponível para saque pessoal é de R$600.00\n",
            "\n",
            "Qual será o valor sacado? (Apenas valores inteiros)598\n",
            "R$100,00: 5\n",
            "R50,00: 1\n",
            "R$10,00: 4\n",
            "R$5,00: 1\n",
            "R$1,00: 3\n"
          ],
          "name": "stdout"
        }
      ]
    }
  ]
}